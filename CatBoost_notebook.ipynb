{
 "cells": [
  {
   "cell_type": "code",
   "execution_count": 1,
   "id": "92b52e94-88f8-4fee-a1bb-8154c239bb87",
   "metadata": {},
   "outputs": [],
   "source": [
    "import numpy as np\n",
    "import pandas as pd"
   ]
  },
  {
   "cell_type": "code",
   "execution_count": 2,
   "id": "a5ea1001-9a7c-4c4a-b6ee-fb0734767acf",
   "metadata": {},
   "outputs": [
    {
     "name": "stdout",
     "output_type": "stream",
     "text": [
      "Loading data...Done!\n"
     ]
    }
   ],
   "source": [
    "print('Loading data...', end='')\n",
    "df_train = pd.read_csv('Train.csv')\n",
    "df_test = pd.read_csv('Test.csv')\n",
    "print('Done!')"
   ]
  },
  {
   "cell_type": "markdown",
   "id": "0fcb60a7-4358-45f9-85d0-8dc592a188a5",
   "metadata": {},
   "source": [
    "### Data preprocessing"
   ]
  },
  {
   "cell_type": "code",
   "execution_count": 3,
   "id": "6691ced0-8e69-43a9-b5fc-b2b51950217b",
   "metadata": {},
   "outputs": [
    {
     "name": "stdout",
     "output_type": "stream",
     "text": [
      "Preprocessing data...\n"
     ]
    }
   ],
   "source": [
    "print('Preprocessing data...', flush=True)\n",
    "\n",
    "def prep(df_enc, df_enc_test):\n",
    "    # Ordinal encoding\n",
    "    n = 0\n",
    "    for i in np.sort(df_enc.tenure.unique()):\n",
    "        df_enc.loc[df_enc['tenure'] == i, 'tenure'] = n\n",
    "        df_enc_test.loc[df_enc_test['tenure'] == i, 'tenure'] = n\n",
    "        n += 1\n",
    "\n",
    "    # Drop cols\n",
    "    df_enc.drop(columns=['mrg', 'top_pack', 'user_id'], inplace=True)\n",
    "    df_enc_test.drop(columns=['mrg', 'top_pack', 'user_id'], inplace=True)\n",
    "\n",
    "    # Fillna\n",
    "    cols = ['montant', 'frequence_rech', 'revenue', 'arpu_segment', \n",
    "            'frequence', 'data_volume', 'on_net', 'orange', 'tigo', \n",
    "            'regularity', 'freq_top_pack']\n",
    "\n",
    "    for i in cols:\n",
    "        df_enc[i].fillna(df_enc[i].mean(), inplace=True)\n",
    "        df_enc_test[i].fillna(df_enc_test[i].mean(), inplace=True)\n",
    "\n",
    "    df_enc['zone1'].fillna(-100, inplace=True)\n",
    "    df_enc['zone2'].fillna(-100, inplace=True)\n",
    "    df_enc_test['zone1'].fillna(-100, inplace=True)\n",
    "    df_enc_test['zone2'].fillna(-100, inplace=True)\n",
    "\n",
    "    # Creating X, y train\n",
    "    y_train = df_enc.churn\n",
    "    X_train = df_enc.drop(columns='churn')\n",
    "    \n",
    "    return X_train, y_train, df_enc_test"
   ]
  },
  {
   "cell_type": "markdown",
   "id": "74e46785-2adf-4f75-8d22-846b2fa5a1ad",
   "metadata": {},
   "source": [
    "### Model import"
   ]
  },
  {
   "cell_type": "code",
   "execution_count": 4,
   "id": "2c304bba-246a-46c5-bf33-3fd4a444f2ad",
   "metadata": {
    "tags": []
   },
   "outputs": [],
   "source": [
    "from sklearn.pipeline import make_pipeline\n",
    "from sklearn.linear_model import LogisticRegression\n",
    "from sklearn.preprocessing import StandardScaler\n",
    "from sklearn.model_selection import cross_val_score\n",
    "import optuna"
   ]
  },
  {
   "cell_type": "code",
   "execution_count": 5,
   "id": "7c524862-d298-4b1e-acfa-eb949d14de23",
   "metadata": {
    "tags": []
   },
   "outputs": [
    {
     "name": "stdout",
     "output_type": "stream",
     "text": [
      "\tFitting logreg...Done!\n",
      "Done!\n"
     ]
    }
   ],
   "source": [
    "# Lower\n",
    "df_train.columns = map(str.lower, df_train.columns)\n",
    "df_test.columns = map(str.lower, df_test.columns)\n",
    "\n",
    "\n",
    "# One hot\n",
    "df_enc = pd.get_dummies(df_train, columns=['region'])\n",
    "df_enc_test = pd.get_dummies(df_test, columns=['region'])\n",
    "\n",
    "\n",
    "# Applying preprocessing function\n",
    "X_train, y_train, df_enc_test = prep(df_enc, df_enc_test)\n",
    "\n",
    "\n",
    "# Applying logreg\n",
    "clf = make_pipeline(StandardScaler(), \n",
    "                    LogisticRegression(C=0.001, \n",
    "                                       penalty='elasticnet', \n",
    "                                       solver='saga', \n",
    "                                       l1_ratio=0.0))\n",
    "\n",
    "print('\\tFitting logreg...', end='', flush=True)\n",
    "clf.fit(X_train, y_train)\n",
    "print('Done!')\n",
    "\n",
    "\n",
    "# Forming ordinal encoding\n",
    "coefs = np.abs(clf.steps[1][1].coef_[0][14:]).reshape(14, 1)\n",
    "regions = np.array(X_train.columns[14:]).reshape(14, 1)\n",
    "\n",
    "reg_ordinal = np.concatenate((coefs, regions), axis=1)\n",
    "reg_ordinal = reg_ordinal[reg_ordinal[:, 0].argsort()]\n",
    "\n",
    "for i in range(reg_ordinal.shape[0]):\n",
    "    reg_ordinal[i, 0] = i\n",
    "    \n",
    "\n",
    "# Creating final df\n",
    "df_ord = df_train.copy(deep=True)\n",
    "df_ord_test = df_test.copy(deep=True)\n",
    "\n",
    "for i, j in reg_ordinal:\n",
    "    index = j.find('_') + 1\n",
    "    df_ord.loc[df_ord['region'] == j[index:], 'region'] = i\n",
    "    df_ord_test.loc[df_ord_test['region'] == j[index:], 'region'] = i\n",
    "    \n",
    "df_ord['region'].fillna(-1, inplace=True)\n",
    "df_ord_test['region'].fillna(-1, inplace=True)\n",
    "\n",
    "\n",
    "X_ord_train, y_ord_train, df_ord_test = prep(df_ord, df_ord_test)\n",
    "print('Done!')"
   ]
  },
  {
   "cell_type": "code",
   "execution_count": 7,
   "id": "830532b1-31d0-4581-89bd-9bbd80b889d4",
   "metadata": {},
   "outputs": [
    {
     "data": {
      "text/html": [
       "<div>\n",
       "<style scoped>\n",
       "    .dataframe tbody tr th:only-of-type {\n",
       "        vertical-align: middle;\n",
       "    }\n",
       "\n",
       "    .dataframe tbody tr th {\n",
       "        vertical-align: top;\n",
       "    }\n",
       "\n",
       "    .dataframe thead th {\n",
       "        text-align: right;\n",
       "    }\n",
       "</style>\n",
       "<table border=\"1\" class=\"dataframe\">\n",
       "  <thead>\n",
       "    <tr style=\"text-align: right;\">\n",
       "      <th></th>\n",
       "      <th>region</th>\n",
       "      <th>tenure</th>\n",
       "      <th>montant</th>\n",
       "      <th>frequence_rech</th>\n",
       "      <th>revenue</th>\n",
       "      <th>arpu_segment</th>\n",
       "      <th>frequence</th>\n",
       "      <th>data_volume</th>\n",
       "      <th>on_net</th>\n",
       "      <th>orange</th>\n",
       "      <th>tigo</th>\n",
       "      <th>zone1</th>\n",
       "      <th>zone2</th>\n",
       "      <th>regularity</th>\n",
       "      <th>freq_top_pack</th>\n",
       "      <th>churn</th>\n",
       "    </tr>\n",
       "  </thead>\n",
       "  <tbody>\n",
       "    <tr>\n",
       "      <th>0</th>\n",
       "      <td>4</td>\n",
       "      <td>7</td>\n",
       "      <td>4250.000000</td>\n",
       "      <td>15.00000</td>\n",
       "      <td>4251.000000</td>\n",
       "      <td>1417.000000</td>\n",
       "      <td>17.000000</td>\n",
       "      <td>4.000000</td>\n",
       "      <td>388.00000</td>\n",
       "      <td>46.000000</td>\n",
       "      <td>1.000000</td>\n",
       "      <td>1.0</td>\n",
       "      <td>2.0</td>\n",
       "      <td>54</td>\n",
       "      <td>8.000000</td>\n",
       "      <td>0</td>\n",
       "    </tr>\n",
       "    <tr>\n",
       "      <th>1</th>\n",
       "      <td>-1</td>\n",
       "      <td>5</td>\n",
       "      <td>5532.116998</td>\n",
       "      <td>11.52912</td>\n",
       "      <td>5510.810334</td>\n",
       "      <td>1836.942894</td>\n",
       "      <td>13.978141</td>\n",
       "      <td>3366.450167</td>\n",
       "      <td>277.68914</td>\n",
       "      <td>95.418711</td>\n",
       "      <td>23.109253</td>\n",
       "      <td>-100.0</td>\n",
       "      <td>-100.0</td>\n",
       "      <td>4</td>\n",
       "      <td>9.272461</td>\n",
       "      <td>1</td>\n",
       "    </tr>\n",
       "    <tr>\n",
       "      <th>2</th>\n",
       "      <td>-1</td>\n",
       "      <td>7</td>\n",
       "      <td>3600.000000</td>\n",
       "      <td>2.00000</td>\n",
       "      <td>1020.000000</td>\n",
       "      <td>340.000000</td>\n",
       "      <td>2.000000</td>\n",
       "      <td>3366.450167</td>\n",
       "      <td>90.00000</td>\n",
       "      <td>46.000000</td>\n",
       "      <td>7.000000</td>\n",
       "      <td>-100.0</td>\n",
       "      <td>-100.0</td>\n",
       "      <td>17</td>\n",
       "      <td>1.000000</td>\n",
       "      <td>0</td>\n",
       "    </tr>\n",
       "    <tr>\n",
       "      <th>3</th>\n",
       "      <td>13</td>\n",
       "      <td>7</td>\n",
       "      <td>13500.000000</td>\n",
       "      <td>15.00000</td>\n",
       "      <td>13502.000000</td>\n",
       "      <td>4501.000000</td>\n",
       "      <td>18.000000</td>\n",
       "      <td>43804.000000</td>\n",
       "      <td>41.00000</td>\n",
       "      <td>102.000000</td>\n",
       "      <td>2.000000</td>\n",
       "      <td>-100.0</td>\n",
       "      <td>-100.0</td>\n",
       "      <td>62</td>\n",
       "      <td>11.000000</td>\n",
       "      <td>0</td>\n",
       "    </tr>\n",
       "    <tr>\n",
       "      <th>4</th>\n",
       "      <td>13</td>\n",
       "      <td>7</td>\n",
       "      <td>1000.000000</td>\n",
       "      <td>1.00000</td>\n",
       "      <td>985.000000</td>\n",
       "      <td>328.000000</td>\n",
       "      <td>1.000000</td>\n",
       "      <td>3366.450167</td>\n",
       "      <td>39.00000</td>\n",
       "      <td>24.000000</td>\n",
       "      <td>23.109253</td>\n",
       "      <td>-100.0</td>\n",
       "      <td>-100.0</td>\n",
       "      <td>11</td>\n",
       "      <td>2.000000</td>\n",
       "      <td>0</td>\n",
       "    </tr>\n",
       "  </tbody>\n",
       "</table>\n",
       "</div>"
      ],
      "text/plain": [
       "   region tenure       montant  frequence_rech       revenue  arpu_segment  \\\n",
       "0       4      7   4250.000000        15.00000   4251.000000   1417.000000   \n",
       "1      -1      5   5532.116998        11.52912   5510.810334   1836.942894   \n",
       "2      -1      7   3600.000000         2.00000   1020.000000    340.000000   \n",
       "3      13      7  13500.000000        15.00000  13502.000000   4501.000000   \n",
       "4      13      7   1000.000000         1.00000    985.000000    328.000000   \n",
       "\n",
       "   frequence   data_volume     on_net      orange       tigo  zone1  zone2  \\\n",
       "0  17.000000      4.000000  388.00000   46.000000   1.000000    1.0    2.0   \n",
       "1  13.978141   3366.450167  277.68914   95.418711  23.109253 -100.0 -100.0   \n",
       "2   2.000000   3366.450167   90.00000   46.000000   7.000000 -100.0 -100.0   \n",
       "3  18.000000  43804.000000   41.00000  102.000000   2.000000 -100.0 -100.0   \n",
       "4   1.000000   3366.450167   39.00000   24.000000  23.109253 -100.0 -100.0   \n",
       "\n",
       "   regularity  freq_top_pack  churn  \n",
       "0          54       8.000000      0  \n",
       "1           4       9.272461      1  \n",
       "2          17       1.000000      0  \n",
       "3          62      11.000000      0  \n",
       "4          11       2.000000      0  "
      ]
     },
     "execution_count": 7,
     "metadata": {},
     "output_type": "execute_result"
    }
   ],
   "source": [
    "df_ord.head()"
   ]
  },
  {
   "cell_type": "markdown",
   "id": "ec1bf74a-5a10-453c-8f73-e19325cdcb03",
   "metadata": {},
   "source": [
    "### LogisticRegression"
   ]
  },
  {
   "cell_type": "code",
   "execution_count": 6,
   "id": "0fcd8003-68fa-4469-8b0e-a661eef4a7ba",
   "metadata": {},
   "outputs": [],
   "source": [
    "# def objective(trial):\n",
    "#     l1_ratio = trial.suggest_float('l1_ratio', 0, 1, step=0.1)\n",
    "#     C_var = trial.suggest_float('log_C', -3, 5, step=1)\n",
    "    \n",
    "#     clf = make_pipeline(StandardScaler(), \n",
    "#                         LogisticRegression(C=10**C_var, penalty='elasticnet', solver='saga', l1_ratio=l1_ratio))\n",
    "    \n",
    "#     return cross_val_score(clf, X_train, y_train, cv=5, scoring='roc_auc', n_jobs=5).mean()"
   ]
  },
  {
   "cell_type": "code",
   "execution_count": 7,
   "id": "05429fc6-a11b-4de1-a5d4-7c0455e0280f",
   "metadata": {},
   "outputs": [],
   "source": [
    "# study = optuna.create_study(direction='maximize')\n",
    "# study.optimize(objective, n_trials=5)"
   ]
  },
  {
   "cell_type": "code",
   "execution_count": 8,
   "id": "b6ec8fb0-3f0c-411c-95fe-ca0f01415d1f",
   "metadata": {},
   "outputs": [],
   "source": [
    "# study.best_params"
   ]
  },
  {
   "cell_type": "code",
   "execution_count": 9,
   "id": "5313f157-1b6c-421f-b6dd-490b9f4ca581",
   "metadata": {
    "tags": []
   },
   "outputs": [],
   "source": [
    "# Best params after gridsearch: (kaggle)\n",
    "# {'logisticregression__C': 0.001, 'logisticregression__l1_ratio': 0.0}\n",
    "\n",
    "# clf = make_pipeline(StandardScaler(), \n",
    "#                     LogisticRegression(C=0.001, penalty='elasticnet', solver='saga', l1_ratio=0.0))\n",
    "# cross_val_score(clf, X_train, y_train, cv=5, verbose=1, scoring='roc_auc', n_jobs=5)"
   ]
  },
  {
   "cell_type": "code",
   "execution_count": 10,
   "id": "fd86ee18-dfc7-4da7-95ba-33e38d0a6e58",
   "metadata": {
    "tags": []
   },
   "outputs": [],
   "source": [
    "# clf.fit(X_train, y_train)"
   ]
  },
  {
   "cell_type": "markdown",
   "id": "f9a20b73-8d57-4d57-a7b9-6b0afbbd0279",
   "metadata": {},
   "source": [
    "### RandomForestClassifier"
   ]
  },
  {
   "cell_type": "code",
   "execution_count": 11,
   "id": "026a3d15-e19c-4e72-94e6-ff2ac7f10d91",
   "metadata": {},
   "outputs": [],
   "source": [
    "# from sklearn.ensemble import RandomForestClassifier"
   ]
  },
  {
   "cell_type": "code",
   "execution_count": 12,
   "id": "a75b483c-a62a-4336-b27c-203afc145b53",
   "metadata": {},
   "outputs": [],
   "source": [
    "# clf_forest = RandomForestClassifier(n_estimators=400, criterion='entropy', min_samples_leaf=20)\n",
    "\n",
    "# %time cross_val_score(clf_forest, X_ord_train, y_ord_train, cv=5, n_jobs=5, scoring='roc_auc').mean()"
   ]
  },
  {
   "cell_type": "code",
   "execution_count": 13,
   "id": "ff4002cf-b5dc-44cf-bcab-3a813bb3004d",
   "metadata": {},
   "outputs": [],
   "source": [
    "# clf_forest.fit(X_ord_train, y_ord_train)"
   ]
  },
  {
   "cell_type": "code",
   "execution_count": 14,
   "id": "aad4e6e4-5eca-4c38-a8c7-809b1652d111",
   "metadata": {},
   "outputs": [],
   "source": [
    "# res = pd.DataFrame()\n",
    "# res['user_id'] = df_test.user_id\n",
    "# res['CHURN'] = clf_forest.predict_proba(df_ord_test)[:, 1]\n",
    "\n",
    "# res.to_csv('submit_final_forest.csv', index=False)\n",
    "# res.head()"
   ]
  },
  {
   "cell_type": "markdown",
   "id": "f2021cb0-1359-48a8-9775-e30b445558b1",
   "metadata": {},
   "source": [
    "### CatBoost"
   ]
  },
  {
   "cell_type": "code",
   "execution_count": 27,
   "id": "153d8b00-00e4-4a3c-8c72-fc82eda4b7e6",
   "metadata": {
    "tags": []
   },
   "outputs": [],
   "source": [
    "import catboost\n",
    "from catboost import CatBoostClassifier"
   ]
  },
  {
   "cell_type": "code",
   "execution_count": 28,
   "id": "3da43779-623f-40ee-ac41-d7b7fb060ac9",
   "metadata": {
    "tags": []
   },
   "outputs": [],
   "source": [
    "def objective(trial):\n",
    "    iterations = trial.suggest_int('iteratons', 300, 500, step=10)\n",
    "    rsm = trial.suggest_float('rsm', 0.4, 1, step=0.1)\n",
    "    subsample = trial.suggest_float('subsample', 0.4, 1, step=0.1)\n",
    "    l2 = trial.suggest_float('l2', 0.4, 9.2, step=0.4)\n",
    "    depth = trial.suggest_int('depth', 4, 16, step=1)\n",
    "    lr = trial.suggest_categorical('lr', [0.001, 0.005, 0.01, 0.02, 0.03, 0.05, 0.1])\n",
    "    \n",
    "    clf = make_pipeline(StandardScaler(), \n",
    "                        CatBoostClassifier(iterations=iterations, depth=depth, rsm=rsm,\n",
    "                                           subsample=subsample, custom_metric='AUC', \n",
    "                                           auto_class_weights='Balanced', l2_leaf_reg=l2,\n",
    "                                           learning_rate=lr, verbose=False))\n",
    "    \n",
    "    return cross_val_score(clf, X_ord_train, y_ord_train, cv=5, \n",
    "                                        scoring='roc_auc', n_jobs=5).mean()"
   ]
  },
  {
   "cell_type": "code",
   "execution_count": 29,
   "id": "d16b92fd-dbb4-4c27-89a9-d37b54dfec06",
   "metadata": {},
   "outputs": [
    {
     "name": "stderr",
     "output_type": "stream",
     "text": [
      "\u001b[32m[I 2021-09-13 02:21:51,528]\u001b[0m A new study created in RDB with name: cat_study\u001b[0m\n"
     ]
    }
   ],
   "source": [
    "study_name = \"cat_study\"  # Unique identifier of the study.\n",
    "storage_name = \"sqlite:///{}.db\".format(study_name)\n",
    "study = optuna.create_study(study_name=study_name, storage=storage_name, direction='maximize')"
   ]
  },
  {
   "cell_type": "code",
   "execution_count": null,
   "id": "d8456c22-8d98-435f-9400-8d8a4bdb7948",
   "metadata": {
    "tags": []
   },
   "outputs": [],
   "source": [
    "print('Starting optuna!', flush=True)\n",
    "study.optimize(objective, n_trials=10)\n",
    "\n",
    "study = optuna.create_study(study_name=study_name, storage=storage_name, load_if_exists=True)\n",
    "study.optimize(objective, n_trials=10)\n",
    "\n",
    "study = optuna.create_study(study_name=study_name, storage=storage_name, load_if_exists=True)\n",
    "study.optimize(objective, n_trials=10)\n",
    "\n",
    "study = optuna.create_study(study_name=study_name, storage=storage_name, load_if_exists=True)\n",
    "study.optimize(objective, n_trials=10)\n",
    "print(study.best_params)"
   ]
  },
  {
   "cell_type": "code",
   "execution_count": null,
   "id": "b65dec71-c887-461f-9439-fced26f60d6f",
   "metadata": {},
   "outputs": [],
   "source": [
    "write.open('best_results.txt', 'a')\n",
    "write.write(str(study.best_params))\n",
    "write.close()\n",
    "print('Done!')"
   ]
  },
  {
   "cell_type": "code",
   "execution_count": 19,
   "id": "44d5ffa8-f82a-46fd-ae30-eb24ff60747c",
   "metadata": {},
   "outputs": [
    {
     "data": {
      "text/plain": [
       "<catboost.core.CatBoostClassifier at 0x7fe76047e850>"
      ]
     },
     "execution_count": 19,
     "metadata": {},
     "output_type": "execute_result"
    }
   ],
   "source": [
    "clf_cat_opt = CatBoostClassifier(iterations=470, depth=12, rsm=0.8, subsample=0.98, custom_metric='AUC',\n",
    "                             auto_class_weights='Balanced', l2_leaf_reg=8.4, learning_rate=0.02, verbose=False)\n",
    "\n",
    "clf_cat_opt.fit(X_ord_train, y_ord_train)"
   ]
  },
  {
   "cell_type": "code",
   "execution_count": 22,
   "id": "bc32d910-1671-4244-9e5d-2bb8c0fa9761",
   "metadata": {},
   "outputs": [
    {
     "data": {
      "text/html": [
       "<div>\n",
       "<style scoped>\n",
       "    .dataframe tbody tr th:only-of-type {\n",
       "        vertical-align: middle;\n",
       "    }\n",
       "\n",
       "    .dataframe tbody tr th {\n",
       "        vertical-align: top;\n",
       "    }\n",
       "\n",
       "    .dataframe thead th {\n",
       "        text-align: right;\n",
       "    }\n",
       "</style>\n",
       "<table border=\"1\" class=\"dataframe\">\n",
       "  <thead>\n",
       "    <tr style=\"text-align: right;\">\n",
       "      <th></th>\n",
       "      <th>user_id</th>\n",
       "      <th>CHURN</th>\n",
       "    </tr>\n",
       "  </thead>\n",
       "  <tbody>\n",
       "    <tr>\n",
       "      <th>0</th>\n",
       "      <td>00001dbe00e56fc4b1c1b65dda63de2a5ece55f9</td>\n",
       "      <td>0.008401</td>\n",
       "    </tr>\n",
       "    <tr>\n",
       "      <th>1</th>\n",
       "      <td>000055d41c8a62052dd426592e8a4a3342bf565d</td>\n",
       "      <td>0.232929</td>\n",
       "    </tr>\n",
       "    <tr>\n",
       "      <th>2</th>\n",
       "      <td>000081dd3245e6869a4a9c574c7050e7bb84c2c8</td>\n",
       "      <td>0.003443</td>\n",
       "    </tr>\n",
       "    <tr>\n",
       "      <th>3</th>\n",
       "      <td>0000b76d2145d9445d9ff6b65c9ebc4196c89337</td>\n",
       "      <td>0.743532</td>\n",
       "    </tr>\n",
       "    <tr>\n",
       "      <th>4</th>\n",
       "      <td>0000bae5480628cf8fe51ad84bcb39772fc79224</td>\n",
       "      <td>0.727977</td>\n",
       "    </tr>\n",
       "  </tbody>\n",
       "</table>\n",
       "</div>"
      ],
      "text/plain": [
       "                                    user_id     CHURN\n",
       "0  00001dbe00e56fc4b1c1b65dda63de2a5ece55f9  0.008401\n",
       "1  000055d41c8a62052dd426592e8a4a3342bf565d  0.232929\n",
       "2  000081dd3245e6869a4a9c574c7050e7bb84c2c8  0.003443\n",
       "3  0000b76d2145d9445d9ff6b65c9ebc4196c89337  0.743532\n",
       "4  0000bae5480628cf8fe51ad84bcb39772fc79224  0.727977"
      ]
     },
     "execution_count": 22,
     "metadata": {},
     "output_type": "execute_result"
    }
   ],
   "source": [
    "res = pd.DataFrame()\n",
    "res['user_id'] = df_test.user_id\n",
    "res['CHURN'] = clf_cat_opt1.predict_proba(df_ord_test)[:, 1]\n",
    "\n",
    "res.to_csv('submit_cat.csv', index=False)\n",
    "res.head()"
   ]
  }
 ],
 "metadata": {
  "kernelspec": {
   "display_name": "Python 3 (ipykernel)",
   "language": "python",
   "name": "python3"
  },
  "language_info": {
   "codemirror_mode": {
    "name": "ipython",
    "version": 3
   },
   "file_extension": ".py",
   "mimetype": "text/x-python",
   "name": "python",
   "nbconvert_exporter": "python",
   "pygments_lexer": "ipython3",
   "version": "3.8.11"
  }
 },
 "nbformat": 4,
 "nbformat_minor": 5
}
